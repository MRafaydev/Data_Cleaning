{
  "nbformat": 4,
  "nbformat_minor": 0,
  "metadata": {
    "colab": {
      "name": "Pre_Processing",
      "provenance": [],
      "mount_file_id": "1xG2OOSnbZvt215rZE0mUGRMyvVF7cXTm",
      "authorship_tag": "ABX9TyMf5QCOoKdNIpUktsCG1QLp",
      "include_colab_link": true
    },
    "kernelspec": {
      "name": "python3",
      "display_name": "Python 3"
    }
  },
  "cells": [
    {
      "cell_type": "markdown",
      "metadata": {
        "id": "view-in-github",
        "colab_type": "text"
      },
      "source": [
        "<a href=\"https://colab.research.google.com/github/MRafaydev/Data_Cleaning/blob/main/Pre_Processing.ipynb\" target=\"_parent\"><img src=\"https://colab.research.google.com/assets/colab-badge.svg\" alt=\"Open In Colab\"/></a>"
      ]
    },
    {
      "cell_type": "markdown",
      "metadata": {
        "id": "i9n1ygeSOPwO"
      },
      "source": [
        "**DATA PREPROCESSING**"
      ]
    },
    {
      "cell_type": "markdown",
      "metadata": {
        "id": "tLji7Bv5OAZQ"
      },
      "source": [
        "**Upload Libaries**"
      ]
    },
    {
      "cell_type": "code",
      "metadata": {
        "id": "HiEgtqXlNgD7"
      },
      "source": [
        "import numpy as np\n",
        "import pandas as pd\n",
        "import matplotlib.pyplot as plt\n"
      ],
      "execution_count": 1,
      "outputs": []
    },
    {
      "cell_type": "code",
      "metadata": {
        "id": "TEc6k7sOOFkj",
        "outputId": "aa5841a0-7cf3-4ccc-f982-bf97a8d777ab",
        "colab": {
          "base_uri": "https://localhost:8080/",
          "height": 356
        }
      },
      "source": [
        "df = pd.read_csv(\"/content/drive/MyDrive/zameen-property-data.csv\")\n",
        "df.head()"
      ],
      "execution_count": 2,
      "outputs": [
        {
          "output_type": "execute_result",
          "data": {
            "text/html": [
              "<div>\n",
              "<style scoped>\n",
              "    .dataframe tbody tr th:only-of-type {\n",
              "        vertical-align: middle;\n",
              "    }\n",
              "\n",
              "    .dataframe tbody tr th {\n",
              "        vertical-align: top;\n",
              "    }\n",
              "\n",
              "    .dataframe thead th {\n",
              "        text-align: right;\n",
              "    }\n",
              "</style>\n",
              "<table border=\"1\" class=\"dataframe\">\n",
              "  <thead>\n",
              "    <tr style=\"text-align: right;\">\n",
              "      <th></th>\n",
              "      <th>property_id</th>\n",
              "      <th>location_id</th>\n",
              "      <th>page_url</th>\n",
              "      <th>property_type</th>\n",
              "      <th>price</th>\n",
              "      <th>location</th>\n",
              "      <th>city</th>\n",
              "      <th>province_name</th>\n",
              "      <th>latitude</th>\n",
              "      <th>longitude</th>\n",
              "      <th>baths</th>\n",
              "      <th>area</th>\n",
              "      <th>purpose</th>\n",
              "      <th>bedrooms</th>\n",
              "      <th>date_added</th>\n",
              "      <th>agency</th>\n",
              "      <th>agent</th>\n",
              "    </tr>\n",
              "  </thead>\n",
              "  <tbody>\n",
              "    <tr>\n",
              "      <th>0</th>\n",
              "      <td>237062</td>\n",
              "      <td>3325</td>\n",
              "      <td>https://www.zameen.com/Property/g_10_g_10_2_gr...</td>\n",
              "      <td>Flat</td>\n",
              "      <td>10000000</td>\n",
              "      <td>G-10</td>\n",
              "      <td>Islamabad</td>\n",
              "      <td>Islamabad Capital</td>\n",
              "      <td>33.679890</td>\n",
              "      <td>73.012640</td>\n",
              "      <td>2</td>\n",
              "      <td>4 Marla</td>\n",
              "      <td>For Sale</td>\n",
              "      <td>2</td>\n",
              "      <td>02-04-2019</td>\n",
              "      <td>NaN</td>\n",
              "      <td>NaN</td>\n",
              "    </tr>\n",
              "    <tr>\n",
              "      <th>1</th>\n",
              "      <td>346905</td>\n",
              "      <td>3236</td>\n",
              "      <td>https://www.zameen.com/Property/e_11_2_service...</td>\n",
              "      <td>Flat</td>\n",
              "      <td>6900000</td>\n",
              "      <td>E-11</td>\n",
              "      <td>Islamabad</td>\n",
              "      <td>Islamabad Capital</td>\n",
              "      <td>33.700993</td>\n",
              "      <td>72.971492</td>\n",
              "      <td>3</td>\n",
              "      <td>5.6 Marla</td>\n",
              "      <td>For Sale</td>\n",
              "      <td>3</td>\n",
              "      <td>05-04-2019</td>\n",
              "      <td>NaN</td>\n",
              "      <td>NaN</td>\n",
              "    </tr>\n",
              "    <tr>\n",
              "      <th>2</th>\n",
              "      <td>386513</td>\n",
              "      <td>764</td>\n",
              "      <td>https://www.zameen.com/Property/islamabad_g_15...</td>\n",
              "      <td>House</td>\n",
              "      <td>16500000</td>\n",
              "      <td>G-15</td>\n",
              "      <td>Islamabad</td>\n",
              "      <td>Islamabad Capital</td>\n",
              "      <td>33.631486</td>\n",
              "      <td>72.926559</td>\n",
              "      <td>6</td>\n",
              "      <td>8 Marla</td>\n",
              "      <td>For Sale</td>\n",
              "      <td>5</td>\n",
              "      <td>07-17-2019</td>\n",
              "      <td>NaN</td>\n",
              "      <td>NaN</td>\n",
              "    </tr>\n",
              "    <tr>\n",
              "      <th>3</th>\n",
              "      <td>656161</td>\n",
              "      <td>340</td>\n",
              "      <td>https://www.zameen.com/Property/islamabad_bani...</td>\n",
              "      <td>House</td>\n",
              "      <td>43500000</td>\n",
              "      <td>Bani Gala</td>\n",
              "      <td>Islamabad</td>\n",
              "      <td>Islamabad Capital</td>\n",
              "      <td>33.707573</td>\n",
              "      <td>73.151199</td>\n",
              "      <td>4</td>\n",
              "      <td>2 Kanal</td>\n",
              "      <td>For Sale</td>\n",
              "      <td>4</td>\n",
              "      <td>04-05-2019</td>\n",
              "      <td>NaN</td>\n",
              "      <td>NaN</td>\n",
              "    </tr>\n",
              "    <tr>\n",
              "      <th>4</th>\n",
              "      <td>841645</td>\n",
              "      <td>3226</td>\n",
              "      <td>https://www.zameen.com/Property/dha_valley_dha...</td>\n",
              "      <td>House</td>\n",
              "      <td>7000000</td>\n",
              "      <td>DHA Defence</td>\n",
              "      <td>Islamabad</td>\n",
              "      <td>Islamabad Capital</td>\n",
              "      <td>33.492591</td>\n",
              "      <td>73.301339</td>\n",
              "      <td>3</td>\n",
              "      <td>8 Marla</td>\n",
              "      <td>For Sale</td>\n",
              "      <td>3</td>\n",
              "      <td>07-10-2019</td>\n",
              "      <td>Easy Property</td>\n",
              "      <td>Muhammad Junaid Ceo Muhammad Shahid Director</td>\n",
              "    </tr>\n",
              "  </tbody>\n",
              "</table>\n",
              "</div>"
            ],
            "text/plain": [
              "   property_id  ...                                         agent\n",
              "0       237062  ...                                           NaN\n",
              "1       346905  ...                                           NaN\n",
              "2       386513  ...                                           NaN\n",
              "3       656161  ...                                           NaN\n",
              "4       841645  ...  Muhammad Junaid Ceo Muhammad Shahid Director\n",
              "\n",
              "[5 rows x 17 columns]"
            ]
          },
          "metadata": {
            "tags": []
          },
          "execution_count": 2
        }
      ]
    },
    {
      "cell_type": "code",
      "metadata": {
        "id": "OLwG4Y1NOPBw",
        "outputId": "3e2bc919-c0f5-45bd-c000-5733fefdfef6",
        "colab": {
          "base_uri": "https://localhost:8080/",
          "height": 198
        }
      },
      "source": [
        "df2=df.drop(['city', 'province_name',\"location\",\"page_url\",\"property_type\",\"area\",\"purpose\",\"agency\",\"agent\",\"date_added\"], axis=1)\n",
        "df2.head()"
      ],
      "execution_count": 3,
      "outputs": [
        {
          "output_type": "execute_result",
          "data": {
            "text/html": [
              "<div>\n",
              "<style scoped>\n",
              "    .dataframe tbody tr th:only-of-type {\n",
              "        vertical-align: middle;\n",
              "    }\n",
              "\n",
              "    .dataframe tbody tr th {\n",
              "        vertical-align: top;\n",
              "    }\n",
              "\n",
              "    .dataframe thead th {\n",
              "        text-align: right;\n",
              "    }\n",
              "</style>\n",
              "<table border=\"1\" class=\"dataframe\">\n",
              "  <thead>\n",
              "    <tr style=\"text-align: right;\">\n",
              "      <th></th>\n",
              "      <th>property_id</th>\n",
              "      <th>location_id</th>\n",
              "      <th>price</th>\n",
              "      <th>latitude</th>\n",
              "      <th>longitude</th>\n",
              "      <th>baths</th>\n",
              "      <th>bedrooms</th>\n",
              "    </tr>\n",
              "  </thead>\n",
              "  <tbody>\n",
              "    <tr>\n",
              "      <th>0</th>\n",
              "      <td>237062</td>\n",
              "      <td>3325</td>\n",
              "      <td>10000000</td>\n",
              "      <td>33.679890</td>\n",
              "      <td>73.012640</td>\n",
              "      <td>2</td>\n",
              "      <td>2</td>\n",
              "    </tr>\n",
              "    <tr>\n",
              "      <th>1</th>\n",
              "      <td>346905</td>\n",
              "      <td>3236</td>\n",
              "      <td>6900000</td>\n",
              "      <td>33.700993</td>\n",
              "      <td>72.971492</td>\n",
              "      <td>3</td>\n",
              "      <td>3</td>\n",
              "    </tr>\n",
              "    <tr>\n",
              "      <th>2</th>\n",
              "      <td>386513</td>\n",
              "      <td>764</td>\n",
              "      <td>16500000</td>\n",
              "      <td>33.631486</td>\n",
              "      <td>72.926559</td>\n",
              "      <td>6</td>\n",
              "      <td>5</td>\n",
              "    </tr>\n",
              "    <tr>\n",
              "      <th>3</th>\n",
              "      <td>656161</td>\n",
              "      <td>340</td>\n",
              "      <td>43500000</td>\n",
              "      <td>33.707573</td>\n",
              "      <td>73.151199</td>\n",
              "      <td>4</td>\n",
              "      <td>4</td>\n",
              "    </tr>\n",
              "    <tr>\n",
              "      <th>4</th>\n",
              "      <td>841645</td>\n",
              "      <td>3226</td>\n",
              "      <td>7000000</td>\n",
              "      <td>33.492591</td>\n",
              "      <td>73.301339</td>\n",
              "      <td>3</td>\n",
              "      <td>3</td>\n",
              "    </tr>\n",
              "  </tbody>\n",
              "</table>\n",
              "</div>"
            ],
            "text/plain": [
              "   property_id  location_id     price   latitude  longitude  baths  bedrooms\n",
              "0       237062         3325  10000000  33.679890  73.012640      2         2\n",
              "1       346905         3236   6900000  33.700993  72.971492      3         3\n",
              "2       386513          764  16500000  33.631486  72.926559      6         5\n",
              "3       656161          340  43500000  33.707573  73.151199      4         4\n",
              "4       841645         3226   7000000  33.492591  73.301339      3         3"
            ]
          },
          "metadata": {
            "tags": []
          },
          "execution_count": 3
        }
      ]
    },
    {
      "cell_type": "code",
      "metadata": {
        "id": "6LFICWJPRmEL",
        "outputId": "77cf2bf5-14b7-45b2-fb41-46c7dd3169f8",
        "colab": {
          "base_uri": "https://localhost:8080/"
        }
      },
      "source": [
        "X=df2.drop([\"price\"],axis=1)\n",
        "y=df2[\"price\"]\n",
        "print(\"shape of X = \", X.shape)\n",
        "print(\"shape of y = \", y.shape)"
      ],
      "execution_count": 13,
      "outputs": [
        {
          "output_type": "stream",
          "text": [
            "shape of X =  (168446, 6)\n",
            "shape of y =  (168446,)\n"
          ],
          "name": "stdout"
        }
      ]
    },
    {
      "cell_type": "code",
      "metadata": {
        "id": "0RblQh8ER5k8",
        "outputId": "cb25b2a6-99c1-49be-fd4f-fbd91a113269",
        "colab": {
          "base_uri": "https://localhost:8080/",
          "height": 288
        }
      },
      "source": [
        "X.describe()"
      ],
      "execution_count": 5,
      "outputs": [
        {
          "output_type": "execute_result",
          "data": {
            "text/html": [
              "<div>\n",
              "<style scoped>\n",
              "    .dataframe tbody tr th:only-of-type {\n",
              "        vertical-align: middle;\n",
              "    }\n",
              "\n",
              "    .dataframe tbody tr th {\n",
              "        vertical-align: top;\n",
              "    }\n",
              "\n",
              "    .dataframe thead th {\n",
              "        text-align: right;\n",
              "    }\n",
              "</style>\n",
              "<table border=\"1\" class=\"dataframe\">\n",
              "  <thead>\n",
              "    <tr style=\"text-align: right;\">\n",
              "      <th></th>\n",
              "      <th>property_id</th>\n",
              "      <th>location_id</th>\n",
              "      <th>latitude</th>\n",
              "      <th>longitude</th>\n",
              "      <th>baths</th>\n",
              "      <th>bedrooms</th>\n",
              "    </tr>\n",
              "  </thead>\n",
              "  <tbody>\n",
              "    <tr>\n",
              "      <th>count</th>\n",
              "      <td>1.684460e+05</td>\n",
              "      <td>168446.000000</td>\n",
              "      <td>168446.000000</td>\n",
              "      <td>168446.000000</td>\n",
              "      <td>168446.000000</td>\n",
              "      <td>168446.000000</td>\n",
              "    </tr>\n",
              "    <tr>\n",
              "      <th>mean</th>\n",
              "      <td>1.559626e+07</td>\n",
              "      <td>4375.936395</td>\n",
              "      <td>29.859519</td>\n",
              "      <td>71.239804</td>\n",
              "      <td>2.874227</td>\n",
              "      <td>3.179422</td>\n",
              "    </tr>\n",
              "    <tr>\n",
              "      <th>std</th>\n",
              "      <td>2.251207e+06</td>\n",
              "      <td>3776.561581</td>\n",
              "      <td>3.807870</td>\n",
              "      <td>3.133042</td>\n",
              "      <td>2.463400</td>\n",
              "      <td>1.971401</td>\n",
              "    </tr>\n",
              "    <tr>\n",
              "      <th>min</th>\n",
              "      <td>8.657500e+04</td>\n",
              "      <td>1.000000</td>\n",
              "      <td>11.052446</td>\n",
              "      <td>25.906027</td>\n",
              "      <td>0.000000</td>\n",
              "      <td>0.000000</td>\n",
              "    </tr>\n",
              "    <tr>\n",
              "      <th>25%</th>\n",
              "      <td>1.488320e+07</td>\n",
              "      <td>1058.000000</td>\n",
              "      <td>24.948536</td>\n",
              "      <td>67.130363</td>\n",
              "      <td>0.000000</td>\n",
              "      <td>2.000000</td>\n",
              "    </tr>\n",
              "    <tr>\n",
              "      <th>50%</th>\n",
              "      <td>1.665851e+07</td>\n",
              "      <td>3286.000000</td>\n",
              "      <td>31.459784</td>\n",
              "      <td>73.056182</td>\n",
              "      <td>3.000000</td>\n",
              "      <td>3.000000</td>\n",
              "    </tr>\n",
              "    <tr>\n",
              "      <th>75%</th>\n",
              "      <td>1.708662e+07</td>\n",
              "      <td>7220.000000</td>\n",
              "      <td>33.560887</td>\n",
              "      <td>73.259870</td>\n",
              "      <td>4.000000</td>\n",
              "      <td>4.000000</td>\n",
              "    </tr>\n",
              "    <tr>\n",
              "      <th>max</th>\n",
              "      <td>1.735772e+07</td>\n",
              "      <td>14220.000000</td>\n",
              "      <td>73.184088</td>\n",
              "      <td>80.161430</td>\n",
              "      <td>403.000000</td>\n",
              "      <td>68.000000</td>\n",
              "    </tr>\n",
              "  </tbody>\n",
              "</table>\n",
              "</div>"
            ],
            "text/plain": [
              "        property_id    location_id  ...          baths       bedrooms\n",
              "count  1.684460e+05  168446.000000  ...  168446.000000  168446.000000\n",
              "mean   1.559626e+07    4375.936395  ...       2.874227       3.179422\n",
              "std    2.251207e+06    3776.561581  ...       2.463400       1.971401\n",
              "min    8.657500e+04       1.000000  ...       0.000000       0.000000\n",
              "25%    1.488320e+07    1058.000000  ...       0.000000       2.000000\n",
              "50%    1.665851e+07    3286.000000  ...       3.000000       3.000000\n",
              "75%    1.708662e+07    7220.000000  ...       4.000000       4.000000\n",
              "max    1.735772e+07   14220.000000  ...     403.000000      68.000000\n",
              "\n",
              "[8 rows x 6 columns]"
            ]
          },
          "metadata": {
            "tags": []
          },
          "execution_count": 5
        }
      ]
    },
    {
      "cell_type": "code",
      "metadata": {
        "id": "5WYgrB1NS-Jm",
        "outputId": "2550a85c-f8c1-4338-ad40-eb4ca43a241d",
        "colab": {
          "base_uri": "https://localhost:8080/"
        }
      },
      "source": [
        "X.info()"
      ],
      "execution_count": 6,
      "outputs": [
        {
          "output_type": "stream",
          "text": [
            "<class 'pandas.core.frame.DataFrame'>\n",
            "RangeIndex: 168446 entries, 0 to 168445\n",
            "Data columns (total 6 columns):\n",
            " #   Column       Non-Null Count   Dtype  \n",
            "---  ------       --------------   -----  \n",
            " 0   property_id  168446 non-null  int64  \n",
            " 1   location_id  168446 non-null  int64  \n",
            " 2   latitude     168446 non-null  float64\n",
            " 3   longitude    168446 non-null  float64\n",
            " 4   baths        168446 non-null  int64  \n",
            " 5   bedrooms     168446 non-null  int64  \n",
            "dtypes: float64(2), int64(4)\n",
            "memory usage: 7.7 MB\n"
          ],
          "name": "stdout"
        }
      ]
    },
    {
      "cell_type": "code",
      "metadata": {
        "id": "6Pdn8hjkTSn6",
        "outputId": "3df34fd7-1ce5-4453-c556-788dfbc504c6",
        "colab": {
          "base_uri": "https://localhost:8080/"
        }
      },
      "source": [
        "X.isnull().sum()"
      ],
      "execution_count": 7,
      "outputs": [
        {
          "output_type": "execute_result",
          "data": {
            "text/plain": [
              "property_id    0\n",
              "location_id    0\n",
              "latitude       0\n",
              "longitude      0\n",
              "baths          0\n",
              "bedrooms       0\n",
              "dtype: int64"
            ]
          },
          "metadata": {
            "tags": []
          },
          "execution_count": 7
        }
      ]
    },
    {
      "cell_type": "code",
      "metadata": {
        "id": "91ILm2uCTXAY",
        "outputId": "1f4fff57-9c8d-4517-dd87-e2084e4e6c2a",
        "colab": {
          "base_uri": "https://localhost:8080/"
        }
      },
      "source": [
        "y.isnull().sum()"
      ],
      "execution_count": 8,
      "outputs": [
        {
          "output_type": "execute_result",
          "data": {
            "text/plain": [
              "0"
            ]
          },
          "metadata": {
            "tags": []
          },
          "execution_count": 8
        }
      ]
    },
    {
      "cell_type": "markdown",
      "metadata": {
        "id": "0HAN_w1bTw_y"
      },
      "source": [
        "For missing values using sciket learn and imputer\n",
        "#from sklearn.preprocessing import imputer\n",
        "\n",
        "#imputer = Imputer(missing_values=\"naN\",strategy=\"mean\",fill_values=\"None\")\n",
        "\n",
        "#imputer = imputer,fit(X)\n",
        "#imputer.transfrom(X)"
      ]
    },
    {
      "cell_type": "markdown",
      "metadata": {
        "id": "AKtC6yzSWpqn"
      },
      "source": [
        "**Convert data from into numeric values**\n",
        "\n",
        "from sklearn.preprocessing import labelEncoder,OneHotencoder\n",
        "\n",
        "label_encoder_X=LableEncoder()\n",
        "\n",
        "X[:values of block]=label_encoder_X.fit_transform([:values])\n",
        "\n",
        "Onehotencoder = OneHotEncoder(categorical_Features =[0])\n",
        "\n",
        "X=label_encoder_X.fit_transform(X).toarray()\n",
        "\n",
        "\n"
      ]
    },
    {
      "cell_type": "code",
      "metadata": {
        "id": "TqXh-PYka01Q"
      },
      "source": [
        "from sklearn.model_selection import train_test_split\n",
        "X_train,X_test,y_train,y_test =train_test_split(X,y,test_size=0.2,random_state=0)"
      ],
      "execution_count": 9,
      "outputs": []
    },
    {
      "cell_type": "code",
      "metadata": {
        "id": "YwRWGkFEa0-S",
        "outputId": "22988283-aa27-4916-ebdb-25b3f0b7cf2f",
        "colab": {
          "base_uri": "https://localhost:8080/",
          "height": 198
        }
      },
      "source": [
        "X_train.head()"
      ],
      "execution_count": 28,
      "outputs": [
        {
          "output_type": "execute_result",
          "data": {
            "text/html": [
              "<div>\n",
              "<style scoped>\n",
              "    .dataframe tbody tr th:only-of-type {\n",
              "        vertical-align: middle;\n",
              "    }\n",
              "\n",
              "    .dataframe tbody tr th {\n",
              "        vertical-align: top;\n",
              "    }\n",
              "\n",
              "    .dataframe thead th {\n",
              "        text-align: right;\n",
              "    }\n",
              "</style>\n",
              "<table border=\"1\" class=\"dataframe\">\n",
              "  <thead>\n",
              "    <tr style=\"text-align: right;\">\n",
              "      <th></th>\n",
              "      <th>property_id</th>\n",
              "      <th>location_id</th>\n",
              "      <th>latitude</th>\n",
              "      <th>longitude</th>\n",
              "      <th>baths</th>\n",
              "      <th>bedrooms</th>\n",
              "    </tr>\n",
              "  </thead>\n",
              "  <tbody>\n",
              "    <tr>\n",
              "      <th>37158</th>\n",
              "      <td>14536079</td>\n",
              "      <td>1057</td>\n",
              "      <td>31.584531</td>\n",
              "      <td>74.372978</td>\n",
              "      <td>3</td>\n",
              "      <td>3</td>\n",
              "    </tr>\n",
              "    <tr>\n",
              "      <th>120355</th>\n",
              "      <td>17054399</td>\n",
              "      <td>6043</td>\n",
              "      <td>33.641205</td>\n",
              "      <td>73.065770</td>\n",
              "      <td>0</td>\n",
              "      <td>3</td>\n",
              "    </tr>\n",
              "    <tr>\n",
              "      <th>20181</th>\n",
              "      <td>12732008</td>\n",
              "      <td>1483</td>\n",
              "      <td>24.805045</td>\n",
              "      <td>67.064323</td>\n",
              "      <td>7</td>\n",
              "      <td>6</td>\n",
              "    </tr>\n",
              "    <tr>\n",
              "      <th>124507</th>\n",
              "      <td>17076701</td>\n",
              "      <td>8885</td>\n",
              "      <td>24.908308</td>\n",
              "      <td>67.072070</td>\n",
              "      <td>2</td>\n",
              "      <td>2</td>\n",
              "    </tr>\n",
              "    <tr>\n",
              "      <th>143502</th>\n",
              "      <td>17218860</td>\n",
              "      <td>3337</td>\n",
              "      <td>33.645957</td>\n",
              "      <td>72.962472</td>\n",
              "      <td>0</td>\n",
              "      <td>0</td>\n",
              "    </tr>\n",
              "  </tbody>\n",
              "</table>\n",
              "</div>"
            ],
            "text/plain": [
              "        property_id  location_id   latitude  longitude  baths  bedrooms\n",
              "37158      14536079         1057  31.584531  74.372978      3         3\n",
              "120355     17054399         6043  33.641205  73.065770      0         3\n",
              "20181      12732008         1483  24.805045  67.064323      7         6\n",
              "124507     17076701         8885  24.908308  67.072070      2         2\n",
              "143502     17218860         3337  33.645957  72.962472      0         0"
            ]
          },
          "metadata": {
            "tags": []
          },
          "execution_count": 28
        }
      ]
    },
    {
      "cell_type": "code",
      "metadata": {
        "id": "9UrR3nwx3NVl",
        "outputId": "52df80f2-69d4-4ef9-a7ed-27d373172050",
        "colab": {
          "base_uri": "https://localhost:8080/"
        }
      },
      "source": [
        "y_train.head()"
      ],
      "execution_count": 29,
      "outputs": [
        {
          "output_type": "execute_result",
          "data": {
            "text/plain": [
              "37158       3900000\n",
              "120355        48000\n",
              "20181     190000000\n",
              "124507      6500000\n",
              "143502        38000\n",
              "Name: price, dtype: int64"
            ]
          },
          "metadata": {
            "tags": []
          },
          "execution_count": 29
        }
      ]
    },
    {
      "cell_type": "markdown",
      "metadata": {
        "id": "W3ZdTgaGaMYZ"
      },
      "source": [
        "**Standard Scaling**"
      ]
    },
    {
      "cell_type": "code",
      "metadata": {
        "id": "Cw6wWDDRaQSB"
      },
      "source": [
        "from sklearn.preprocessing import StandardScaler\n",
        "sc_X = StandardScaler()\n",
        "X_test=sc_X.fit_transform(X_test)\n",
        "X_train=sc_X.fit_transform(X_train)\n"
      ],
      "execution_count": 94,
      "outputs": []
    },
    {
      "cell_type": "code",
      "metadata": {
        "id": "8KwFIpGCc6yV",
        "outputId": "88ace90a-f112-4c39-c6b9-27a3619e8348",
        "colab": {
          "base_uri": "https://localhost:8080/"
        }
      },
      "source": [
        "X_test"
      ],
      "execution_count": 95,
      "outputs": [
        {
          "output_type": "execute_result",
          "data": {
            "text/plain": [
              "array([[ 0.512329  ,  2.28773788, -1.32421791, -1.32091397,  0.06445469,\n",
              "         0.427795  ],\n",
              "       [ 0.75363975,  1.56862878,  0.40891806,  0.59992228, -1.26177412,\n",
              "        -1.61746182],\n",
              "       [-1.61438836, -0.77212039, -1.32892009, -1.34229992, -0.37762158,\n",
              "        -0.59483341],\n",
              "       ...,\n",
              "       [-2.95496984, -0.78113245,  0.42178992,  1.02527298,  1.3906835 ,\n",
              "         0.9391092 ],\n",
              "       [ 0.62674794, -1.12120505,  1.01523485,  0.58026164,  1.3906835 ,\n",
              "         0.9391092 ],\n",
              "       [ 0.15168308,  0.66000142, -1.2908899 , -1.31893416, -0.37762158,\n",
              "        -0.59483341]])"
            ]
          },
          "metadata": {
            "tags": []
          },
          "execution_count": 95
        }
      ]
    },
    {
      "cell_type": "code",
      "metadata": {
        "id": "Kegkz0_zc_cG",
        "outputId": "c284d182-c5e3-4b84-f8f2-84d82f62c168",
        "colab": {
          "base_uri": "https://localhost:8080/"
        }
      },
      "source": [
        "X_test"
      ],
      "execution_count": 96,
      "outputs": [
        {
          "output_type": "execute_result",
          "data": {
            "text/plain": [
              "array([[ 0.512329  ,  2.28773788, -1.32421791, -1.32091397,  0.06445469,\n",
              "         0.427795  ],\n",
              "       [ 0.75363975,  1.56862878,  0.40891806,  0.59992228, -1.26177412,\n",
              "        -1.61746182],\n",
              "       [-1.61438836, -0.77212039, -1.32892009, -1.34229992, -0.37762158,\n",
              "        -0.59483341],\n",
              "       ...,\n",
              "       [-2.95496984, -0.78113245,  0.42178992,  1.02527298,  1.3906835 ,\n",
              "         0.9391092 ],\n",
              "       [ 0.62674794, -1.12120505,  1.01523485,  0.58026164,  1.3906835 ,\n",
              "         0.9391092 ],\n",
              "       [ 0.15168308,  0.66000142, -1.2908899 , -1.31893416, -0.37762158,\n",
              "        -0.59483341]])"
            ]
          },
          "metadata": {
            "tags": []
          },
          "execution_count": 96
        }
      ]
    },
    {
      "cell_type": "code",
      "metadata": {
        "id": "Sz2RdW75tHB1",
        "outputId": "87a1365c-2f7a-4761-a7cc-416a553867d4",
        "colab": {
          "base_uri": "https://localhost:8080/"
        }
      },
      "source": [
        "from sklearn.linear_model import LinearRegression\n",
        "reg = LinearRegression()\n",
        "reg.fit(X_train,y_train)"
      ],
      "execution_count": 10,
      "outputs": [
        {
          "output_type": "execute_result",
          "data": {
            "text/plain": [
              "LinearRegression(copy_X=True, fit_intercept=True, n_jobs=None, normalize=False)"
            ]
          },
          "metadata": {
            "tags": []
          },
          "execution_count": 10
        }
      ]
    },
    {
      "cell_type": "code",
      "metadata": {
        "id": "c1QwTHYqv2z_",
        "outputId": "0ac872d3-1a49-4988-f8f8-743f611aea7f",
        "colab": {
          "base_uri": "https://localhost:8080/"
        }
      },
      "source": [
        "y_pred = reg.predict(X_test)\n",
        "y_pred"
      ],
      "execution_count": 15,
      "outputs": [
        {
          "output_type": "execute_result",
          "data": {
            "text/plain": [
              "array([19106964.75825788, -3909674.70478542, 18507376.67616081, ...,\n",
              "       34221341.93070152, 24679412.59039617, 13492385.84679398])"
            ]
          },
          "metadata": {
            "tags": []
          },
          "execution_count": 15
        }
      ]
    },
    {
      "cell_type": "code",
      "metadata": {
        "id": "r1aJ0H4wx3a3",
        "outputId": "a80f2311-4cae-4abd-a8c7-442c9b1cfa7a",
        "colab": {
          "base_uri": "https://localhost:8080/"
        }
      },
      "source": [
        "reg.score(X_test,y_test)"
      ],
      "execution_count": 19,
      "outputs": [
        {
          "output_type": "execute_result",
          "data": {
            "text/plain": [
              "0.1104058337609005"
            ]
          },
          "metadata": {
            "tags": []
          },
          "execution_count": 19
        }
      ]
    },
    {
      "cell_type": "code",
      "metadata": {
        "id": "Bmth-f1uyY1Z",
        "outputId": "5c91c2f5-9ab2-4194-b1e9-bf6c68d84ac8",
        "colab": {
          "base_uri": "https://localhost:8080/"
        }
      },
      "source": [
        "print('- y_pred : ')\n",
        "print(y_pred)\n",
        "print('- y_test : ')\n",
        "print(y_test)"
      ],
      "execution_count": 14,
      "outputs": [
        {
          "output_type": "stream",
          "text": [
            "- y_pred : \n",
            "[19106964.75825788 -3909674.70478542 18507376.67616081 ...\n",
            " 34221341.93070152 24679412.59039617 13492385.84679398]\n",
            "- y_test : \n",
            "89777      3300000\n",
            "158067    12900000\n",
            "14802      8000000\n",
            "167977       60000\n",
            "92118      5000000\n",
            "            ...   \n",
            "92512     80000000\n",
            "130728    55000000\n",
            "3396      45000000\n",
            "114133      350000\n",
            "63022      5000000\n",
            "Name: price, Length: 33690, dtype: int64\n"
          ],
          "name": "stdout"
        }
      ]
    },
    {
      "cell_type": "code",
      "metadata": {
        "id": "2ELRZFQnz4DT",
        "outputId": "62a0f3af-f524-47b8-eb25-0aba0d28a581",
        "colab": {
          "base_uri": "https://localhost:8080/"
        }
      },
      "source": [
        "print(y_pred.sum().mean())\n",
        "print(y_test.sum().mean())\n",
        "\n",
        "print(\"So called Accuracy \", y_pred.sum().mean()/y_test.sum().mean())"
      ],
      "execution_count": 17,
      "outputs": [
        {
          "output_type": "stream",
          "text": [
            "595074190418.5546\n",
            "594609258591.0\n",
            "So called Accuracy  1.000781911517248\n"
          ],
          "name": "stdout"
        }
      ]
    },
    {
      "cell_type": "code",
      "metadata": {
        "id": "1swPWy4U0Zu1",
        "outputId": "132bba10-66eb-4f96-b512-8fefcf65c3f9",
        "colab": {
          "base_uri": "https://localhost:8080/",
          "height": 407
        }
      },
      "source": [
        "pd.DataFrame(np.c_[X_test, y_test, y_pred], columns = [\"property_id\",\"location_id\",\"latitude\",\"longitude\",\"baths\",\"bedrooms\",\"real_price\",\"Orignal_price\"])"
      ],
      "execution_count": 23,
      "outputs": [
        {
          "output_type": "execute_result",
          "data": {
            "text/html": [
              "<div>\n",
              "<style scoped>\n",
              "    .dataframe tbody tr th:only-of-type {\n",
              "        vertical-align: middle;\n",
              "    }\n",
              "\n",
              "    .dataframe tbody tr th {\n",
              "        vertical-align: top;\n",
              "    }\n",
              "\n",
              "    .dataframe thead th {\n",
              "        text-align: right;\n",
              "    }\n",
              "</style>\n",
              "<table border=\"1\" class=\"dataframe\">\n",
              "  <thead>\n",
              "    <tr style=\"text-align: right;\">\n",
              "      <th></th>\n",
              "      <th>property_id</th>\n",
              "      <th>location_id</th>\n",
              "      <th>latitude</th>\n",
              "      <th>longitude</th>\n",
              "      <th>baths</th>\n",
              "      <th>bedrooms</th>\n",
              "      <th>real_price</th>\n",
              "      <th>Orignal_price</th>\n",
              "    </tr>\n",
              "  </thead>\n",
              "  <tbody>\n",
              "    <tr>\n",
              "      <th>0</th>\n",
              "      <td>16761552.0</td>\n",
              "      <td>13026.0</td>\n",
              "      <td>24.828138</td>\n",
              "      <td>67.110438</td>\n",
              "      <td>3.0</td>\n",
              "      <td>4.0</td>\n",
              "      <td>3300000.0</td>\n",
              "      <td>1.910696e+07</td>\n",
              "    </tr>\n",
              "    <tr>\n",
              "      <th>1</th>\n",
              "      <td>17303496.0</td>\n",
              "      <td>10313.0</td>\n",
              "      <td>31.415799</td>\n",
              "      <td>73.117983</td>\n",
              "      <td>0.0</td>\n",
              "      <td>0.0</td>\n",
              "      <td>12900000.0</td>\n",
              "      <td>-3.909675e+06</td>\n",
              "    </tr>\n",
              "    <tr>\n",
              "      <th>2</th>\n",
              "      <td>11985297.0</td>\n",
              "      <td>1482.0</td>\n",
              "      <td>24.810265</td>\n",
              "      <td>67.043552</td>\n",
              "      <td>2.0</td>\n",
              "      <td>2.0</td>\n",
              "      <td>8000000.0</td>\n",
              "      <td>1.850738e+07</td>\n",
              "    </tr>\n",
              "    <tr>\n",
              "      <th>3</th>\n",
              "      <td>17351321.0</td>\n",
              "      <td>3444.0</td>\n",
              "      <td>33.662782</td>\n",
              "      <td>73.077793</td>\n",
              "      <td>0.0</td>\n",
              "      <td>0.0</td>\n",
              "      <td>60000.0</td>\n",
              "      <td>-4.813935e+06</td>\n",
              "    </tr>\n",
              "    <tr>\n",
              "      <th>4</th>\n",
              "      <td>16794070.0</td>\n",
              "      <td>8954.0</td>\n",
              "      <td>24.959785</td>\n",
              "      <td>67.070190</td>\n",
              "      <td>2.0</td>\n",
              "      <td>2.0</td>\n",
              "      <td>5000000.0</td>\n",
              "      <td>1.161540e+07</td>\n",
              "    </tr>\n",
              "    <tr>\n",
              "      <th>...</th>\n",
              "      <td>...</td>\n",
              "      <td>...</td>\n",
              "      <td>...</td>\n",
              "      <td>...</td>\n",
              "      <td>...</td>\n",
              "      <td>...</td>\n",
              "      <td>...</td>\n",
              "      <td>...</td>\n",
              "    </tr>\n",
              "    <tr>\n",
              "      <th>33685</th>\n",
              "      <td>16800908.0</td>\n",
              "      <td>1556.0</td>\n",
              "      <td>31.481966</td>\n",
              "      <td>74.313834</td>\n",
              "      <td>0.0</td>\n",
              "      <td>6.0</td>\n",
              "      <td>80000000.0</td>\n",
              "      <td>3.548783e+07</td>\n",
              "    </tr>\n",
              "    <tr>\n",
              "      <th>33686</th>\n",
              "      <td>17108873.0</td>\n",
              "      <td>1611.0</td>\n",
              "      <td>31.471132</td>\n",
              "      <td>74.445162</td>\n",
              "      <td>6.0</td>\n",
              "      <td>5.0</td>\n",
              "      <td>55000000.0</td>\n",
              "      <td>3.311397e+07</td>\n",
              "    </tr>\n",
              "    <tr>\n",
              "      <th>33687</th>\n",
              "      <td>8974573.0</td>\n",
              "      <td>1448.0</td>\n",
              "      <td>31.464725</td>\n",
              "      <td>74.448296</td>\n",
              "      <td>6.0</td>\n",
              "      <td>5.0</td>\n",
              "      <td>45000000.0</td>\n",
              "      <td>3.422134e+07</td>\n",
              "    </tr>\n",
              "    <tr>\n",
              "      <th>33688</th>\n",
              "      <td>17018518.0</td>\n",
              "      <td>165.0</td>\n",
              "      <td>33.720413</td>\n",
              "      <td>73.056493</td>\n",
              "      <td>6.0</td>\n",
              "      <td>5.0</td>\n",
              "      <td>350000.0</td>\n",
              "      <td>2.467941e+07</td>\n",
              "    </tr>\n",
              "    <tr>\n",
              "      <th>33689</th>\n",
              "      <td>15951601.0</td>\n",
              "      <td>6885.0</td>\n",
              "      <td>24.954818</td>\n",
              "      <td>67.116630</td>\n",
              "      <td>2.0</td>\n",
              "      <td>2.0</td>\n",
              "      <td>5000000.0</td>\n",
              "      <td>1.349239e+07</td>\n",
              "    </tr>\n",
              "  </tbody>\n",
              "</table>\n",
              "<p>33690 rows × 8 columns</p>\n",
              "</div>"
            ],
            "text/plain": [
              "       property_id  location_id   latitude  ...  bedrooms  real_price  Orignal_price\n",
              "0       16761552.0      13026.0  24.828138  ...       4.0   3300000.0   1.910696e+07\n",
              "1       17303496.0      10313.0  31.415799  ...       0.0  12900000.0  -3.909675e+06\n",
              "2       11985297.0       1482.0  24.810265  ...       2.0   8000000.0   1.850738e+07\n",
              "3       17351321.0       3444.0  33.662782  ...       0.0     60000.0  -4.813935e+06\n",
              "4       16794070.0       8954.0  24.959785  ...       2.0   5000000.0   1.161540e+07\n",
              "...            ...          ...        ...  ...       ...         ...            ...\n",
              "33685   16800908.0       1556.0  31.481966  ...       6.0  80000000.0   3.548783e+07\n",
              "33686   17108873.0       1611.0  31.471132  ...       5.0  55000000.0   3.311397e+07\n",
              "33687    8974573.0       1448.0  31.464725  ...       5.0  45000000.0   3.422134e+07\n",
              "33688   17018518.0        165.0  33.720413  ...       5.0    350000.0   2.467941e+07\n",
              "33689   15951601.0       6885.0  24.954818  ...       2.0   5000000.0   1.349239e+07\n",
              "\n",
              "[33690 rows x 8 columns]"
            ]
          },
          "metadata": {
            "tags": []
          },
          "execution_count": 23
        }
      ]
    },
    {
      "cell_type": "code",
      "metadata": {
        "id": "x3-Fl9mQ15i5"
      },
      "source": [
        ""
      ],
      "execution_count": null,
      "outputs": []
    }
  ]
}